{
  "nbformat": 4,
  "nbformat_minor": 0,
  "metadata": {
    "colab": {
      "name": "Word Embedding 0.ipynb",
      "provenance": [],
      "authorship_tag": "ABX9TyNTTTPQ4yln++SwiQGSsW9p",
      "include_colab_link": true
    },
    "kernelspec": {
      "name": "python3",
      "display_name": "Python 3"
    }
  },
  "cells": [
    {
      "cell_type": "markdown",
      "metadata": {
        "id": "view-in-github",
        "colab_type": "text"
      },
      "source": [
        "<a href=\"https://colab.research.google.com/github/MdShahadatHossainbd/NLP/blob/master/Word_Embedding_0.ipynb\" target=\"_parent\"><img src=\"https://colab.research.google.com/assets/colab-badge.svg\" alt=\"Open In Colab\"/></a>"
      ]
    },
    {
      "cell_type": "code",
      "metadata": {
        "id": "ObbgfN0mPPiz"
      },
      "source": [
        "from tensorflow.keras.preprocessing.text import one_hot"
      ],
      "execution_count": 1,
      "outputs": []
    },
    {
      "cell_type": "code",
      "metadata": {
        "id": "RlGL1gEBPXMP"
      },
      "source": [
        "sent = [\"The Bus Rapid Transit (BRT) project from the airport to Gazipur has to be revised for the third time as new complexities have arisen in its design and specification.\"\n",
        "\"The technical design of the Tongi-Joydebpur road also needs to be changed which would increase the project cost by Tk165 crore.\"\n",
        "\"The authorities have decided to use I-girder instead of box girder in the 4.5km elevated section from Uttara House Building to Tongi Cherag Ali Market. There has been a debate on the use of girders since the project began in 2012.\"]"
      ],
      "execution_count": 2,
      "outputs": []
    },
    {
      "cell_type": "code",
      "metadata": {
        "colab": {
          "base_uri": "https://localhost:8080/"
        },
        "id": "88S58D7FPxLq",
        "outputId": "7277cda0-b642-406c-968d-7503642f2583"
      },
      "source": [
        "sent"
      ],
      "execution_count": 3,
      "outputs": [
        {
          "output_type": "execute_result",
          "data": {
            "text/plain": [
              "['The Bus Rapid Transit (BRT) project from the airport to Gazipur has to be revised for the third time as new complexities have arisen in its design and specification.The technical design of the Tongi-Joydebpur road also needs to be changed which would increase the project cost by Tk165 crore.The authorities have decided to use I-girder instead of box girder in the 4.5km elevated section from Uttara House Building to Tongi Cherag Ali Market. There has been a debate on the use of girders since the project began in 2012.']"
            ]
          },
          "metadata": {
            "tags": []
          },
          "execution_count": 3
        }
      ]
    },
    {
      "cell_type": "code",
      "metadata": {
        "id": "GoXHzJ8DPzu8"
      },
      "source": [
        "#Vocabullary size\n",
        "voc_size= 10000"
      ],
      "execution_count": 4,
      "outputs": []
    },
    {
      "cell_type": "code",
      "metadata": {
        "colab": {
          "base_uri": "https://localhost:8080/"
        },
        "id": "13cuTw7gP6NU",
        "outputId": "68efb77c-7f1d-4cab-c628-e9e3be87cdb0"
      },
      "source": [
        "onehot_rpr=[one_hot(words, voc_size) for words in sent]\n",
        "print(onehot_rpr)"
      ],
      "execution_count": 5,
      "outputs": [
        {
          "output_type": "stream",
          "text": [
            "[[8923, 3206, 174, 9102, 382, 6986, 9589, 8923, 1672, 6832, 3750, 6766, 6832, 3070, 1407, 2189, 8923, 5683, 7997, 5811, 7145, 8354, 1124, 9119, 1305, 3060, 2173, 9963, 5583, 8923, 121, 2173, 6321, 8923, 458, 7896, 682, 7709, 3241, 6832, 3070, 1669, 5034, 2283, 2313, 8923, 6986, 2142, 7495, 9752, 3926, 8923, 8587, 1124, 9850, 6832, 4854, 1038, 3545, 1318, 6321, 3324, 3545, 1305, 8923, 6031, 1687, 4852, 2891, 9589, 1856, 4721, 5607, 6832, 458, 2470, 59, 2563, 4803, 6766, 3217, 4222, 7858, 908, 8923, 4854, 6321, 1325, 5567, 8923, 6986, 5517, 1305, 172]]\n"
          ],
          "name": "stdout"
        }
      ]
    },
    {
      "cell_type": "markdown",
      "metadata": {
        "id": "20Z23EW1QBja"
      },
      "source": [
        "Word embedding representation"
      ]
    },
    {
      "cell_type": "code",
      "metadata": {
        "id": "ED_T1XvVQCWC"
      },
      "source": [
        "from tensorflow.keras.layers import Embedding\n",
        "from tensorflow.keras.preprocessing.sequence import pad_sequences\n",
        "from tensorflow.keras.models import Sequential"
      ],
      "execution_count": 6,
      "outputs": []
    },
    {
      "cell_type": "code",
      "metadata": {
        "id": "KHk94_GbQFcz"
      },
      "source": [
        "import numpy as np"
      ],
      "execution_count": 7,
      "outputs": []
    },
    {
      "cell_type": "code",
      "metadata": {
        "colab": {
          "base_uri": "https://localhost:8080/"
        },
        "id": "0GEcYo5iQIRc",
        "outputId": "a56bada0-9f05-4bc3-803e-8b5f1e717e43"
      },
      "source": [
        "sent_length= 8\n",
        "emdebed_docs= pad_sequences(onehot_rpr, padding='pre', maxlen= sent_length)\n",
        "print(emdebed_docs)"
      ],
      "execution_count": 8,
      "outputs": [
        {
          "output_type": "stream",
          "text": [
            "[[6321 1325 5567 8923 6986 5517 1305  172]]\n"
          ],
          "name": "stdout"
        }
      ]
    },
    {
      "cell_type": "code",
      "metadata": {
        "id": "y5kmBQikQSK7"
      },
      "source": [
        "model= Sequential()\n",
        "dimension= 10\n",
        "model.add(Embedding(voc_size, dimension, input_length= sent_length))\n",
        "model.compile('adam', 'mse')"
      ],
      "execution_count": 9,
      "outputs": []
    },
    {
      "cell_type": "code",
      "metadata": {
        "colab": {
          "base_uri": "https://localhost:8080/"
        },
        "id": "J5Nss2w7QVGe",
        "outputId": "cfdb6389-6036-4af7-abe4-81ef93deadeb"
      },
      "source": [
        "model.summary()"
      ],
      "execution_count": 10,
      "outputs": [
        {
          "output_type": "stream",
          "text": [
            "Model: \"sequential\"\n",
            "_________________________________________________________________\n",
            "Layer (type)                 Output Shape              Param #   \n",
            "=================================================================\n",
            "embedding (Embedding)        (None, 8, 10)             100000    \n",
            "=================================================================\n",
            "Total params: 100,000\n",
            "Trainable params: 100,000\n",
            "Non-trainable params: 0\n",
            "_________________________________________________________________\n"
          ],
          "name": "stdout"
        }
      ]
    },
    {
      "cell_type": "code",
      "metadata": {
        "colab": {
          "base_uri": "https://localhost:8080/"
        },
        "id": "kPpg6ifbQZnJ",
        "outputId": "0b6258eb-11ca-4842-dcbd-9f4e562e5773"
      },
      "source": [
        "print(model.predict(emdebed_docs))"
      ],
      "execution_count": 11,
      "outputs": [
        {
          "output_type": "stream",
          "text": [
            "[[[-0.01314092  0.03712784  0.02378129 -0.02487274  0.01566638\n",
            "   -0.04460524  0.00799811  0.01002378 -0.00431248 -0.00899938]\n",
            "  [-0.02290246  0.02478087 -0.0110013   0.0050346   0.01337744\n",
            "   -0.00464391  0.04701643  0.04270755 -0.00975914  0.04658613]\n",
            "  [ 0.01497996  0.0416477  -0.00689093 -0.02003458 -0.03844929\n",
            "   -0.03059193 -0.03500296 -0.00729185 -0.00641426  0.00869515]\n",
            "  [-0.04872125  0.04073933  0.02558756  0.00099786 -0.04433618\n",
            "    0.04682786  0.04919895  0.01552686  0.01801187  0.04136373]\n",
            "  [ 0.02817195 -0.01707915  0.02554942 -0.01420745  0.02740495\n",
            "   -0.01488954 -0.0072486   0.00324738 -0.02851382  0.0457975 ]\n",
            "  [ 0.0137058  -0.03128257 -0.0370838  -0.02549062  0.00248528\n",
            "    0.03612557 -0.01245103  0.03501669 -0.01081615 -0.0179512 ]\n",
            "  [ 0.01845257  0.03803184  0.03938497  0.01955438  0.03252454\n",
            "    0.04265035 -0.02258076  0.02825576  0.00916742 -0.02349702]\n",
            "  [-0.0104691  -0.02436655 -0.00190368  0.00654655 -0.02001675\n",
            "    0.03297557 -0.02574807  0.0004557  -0.01496454  0.02537518]]]\n"
          ],
          "name": "stdout"
        }
      ]
    },
    {
      "cell_type": "code",
      "metadata": {
        "colab": {
          "base_uri": "https://localhost:8080/"
        },
        "id": "4ITGebTFQgMP",
        "outputId": "0f07a2ee-aca9-407d-8364-5be72bbecec2"
      },
      "source": [
        "print(model.predict(emdebed_docs)[0])"
      ],
      "execution_count": 12,
      "outputs": [
        {
          "output_type": "stream",
          "text": [
            "[[-0.01314092  0.03712784  0.02378129 -0.02487274  0.01566638 -0.04460524\n",
            "   0.00799811  0.01002378 -0.00431248 -0.00899938]\n",
            " [-0.02290246  0.02478087 -0.0110013   0.0050346   0.01337744 -0.00464391\n",
            "   0.04701643  0.04270755 -0.00975914  0.04658613]\n",
            " [ 0.01497996  0.0416477  -0.00689093 -0.02003458 -0.03844929 -0.03059193\n",
            "  -0.03500296 -0.00729185 -0.00641426  0.00869515]\n",
            " [-0.04872125  0.04073933  0.02558756  0.00099786 -0.04433618  0.04682786\n",
            "   0.04919895  0.01552686  0.01801187  0.04136373]\n",
            " [ 0.02817195 -0.01707915  0.02554942 -0.01420745  0.02740495 -0.01488954\n",
            "  -0.0072486   0.00324738 -0.02851382  0.0457975 ]\n",
            " [ 0.0137058  -0.03128257 -0.0370838  -0.02549062  0.00248528  0.03612557\n",
            "  -0.01245103  0.03501669 -0.01081615 -0.0179512 ]\n",
            " [ 0.01845257  0.03803184  0.03938497  0.01955438  0.03252454  0.04265035\n",
            "  -0.02258076  0.02825576  0.00916742 -0.02349702]\n",
            " [-0.0104691  -0.02436655 -0.00190368  0.00654655 -0.02001675  0.03297557\n",
            "  -0.02574807  0.0004557  -0.01496454  0.02537518]]\n"
          ],
          "name": "stdout"
        }
      ]
    }
  ]
}